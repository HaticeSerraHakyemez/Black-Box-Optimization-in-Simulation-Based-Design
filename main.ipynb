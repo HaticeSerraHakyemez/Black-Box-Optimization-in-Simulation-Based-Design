{
 "cells": [
  {
   "cell_type": "code",
   "execution_count": 5,
   "metadata": {},
   "outputs": [
    {
     "name": "stdout",
     "output_type": "stream",
     "text": [
      "Best observed function value after active learning: 1.654595179330977\n"
     ]
    }
   ],
   "source": [
    "import bbo_optimizer\n",
    "import utils.samplers as samplers\n",
    "import utils.models as models\n",
    "\n",
    "bbo_optimizer.optimize(\"Bukin\", samplers.LatinHypercubeSampling, models.RandomForestModel)"
   ]
  }
 ],
 "metadata": {
  "kernelspec": {
   "display_name": "Python 3",
   "language": "python",
   "name": "python3"
  },
  "language_info": {
   "codemirror_mode": {
    "name": "ipython",
    "version": 3
   },
   "file_extension": ".py",
   "mimetype": "text/x-python",
   "name": "python",
   "nbconvert_exporter": "python",
   "pygments_lexer": "ipython3",
   "version": "3.11.3"
  }
 },
 "nbformat": 4,
 "nbformat_minor": 2
}
